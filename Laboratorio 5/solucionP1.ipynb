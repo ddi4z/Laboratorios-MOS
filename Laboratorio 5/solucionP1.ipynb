{
 "cells": [
  {
   "cell_type": "markdown",
   "metadata": {},
   "source": [
    "## **Laboratorio 5: Parte 1 - Algoritmos genéticos**\n",
    "### **Actividades: Chameleon y Maze Runner**\n",
    "\n",
    "**ISIS-3302:** Modelado, Simulación y Optimización\n",
    "\n",
    "Departamento de Ingeniería de Sistemas y Computación\n",
    "\n",
    "Universidad de los Andes\n",
    "\n",
    "### **Integrantes - Grupo 15**\n",
    "\n",
    "Daniel Felipe Diaz Moreno y Sara Sofía Cárdenas Rodríguez"
   ]
  },
  {
   "cell_type": "markdown",
   "metadata": {},
   "source": [
    "### 1. Definición del Problema\n",
    "\n",
    "- **Descripción Detallada**: Explicación del objetivo de camuflar el cubo ajustando su color en escala de grises.\n",
    "- **Justificación**: Razones por las cuales se utiliza un algoritmo genético para resolver este problema."
   ]
  },
  {
   "cell_type": "markdown",
   "metadata": {},
   "source": [
    "### 2. Diseño del Algoritmo Genético\n",
    "\n",
    "#### 2.1. Especificación de Componentes: Detalles de cada componente del algoritmo (representación genética, función de aptitud, operadores genéticos, etc.).\n",
    "\n",
    "\n",
    "\n",
    "##### 2.1.1. Representación Genética (Codificación)\n",
    "\n",
    "- **Genotipo**, **Fenotipo** y **Codificación**: Para cada individuo, se definirá su color dentro del atributo fenotipo, siendo un valor entre 0 y 255.\n",
    "\n",
    "##### 2.1.2. Población Inicial\n",
    "\n",
    "- **Tamaño de la Población**: 80 individuos.\n",
    "- **Inicialización**: Los valores de gris de los individuos se generan aleatoriamente entre 0 y 255.\n",
    "\n",
    "##### 2.1.3. Función de Aptitud (Fitness Function)\n",
    "\n",
    "- **Objetivo**: Minimizar la diferencia absoluta entre el nivel de gris del individuo y el nivel de gris del fondo.\n",
    "- **Función de Aptitud**: \\( \\text{Aptitud}(i) = -|\\text{Gris}_{\\text{individuo}} - \\text{Gris}_{\\text{fondo}}| \\)\n",
    "\n",
    "\n",
    "##### 2.1.4. Selección\n",
    "\n",
    "- **Criterio de Supervivencia**: Solo el 20% de los individuos con mayor aptitud sobreviven para la siguiente generación.\n",
    "- **Método de Selección**: Selección elitista, donde se conservan los mejores individuos.\n",
    "\n",
    "##### 2.1.5. Operadores Genéticos\n",
    "\n",
    "##### a. Cruce (Crossover)\n",
    "\n",
    "- **Tipo de Cruce**: Cruce uniforme.\n",
    "- **Proceso**: Se seleccionan pares de padres y nacen dos nuevos hijos, uno con la suma de los genotipos de sus padres y otro con el promedio. A ambos valores se les aplica el modulo para evitar valores no validos\n",
    "\n",
    "##### b. Mutación\n",
    "\n",
    "- **Probabilidad de Mutación**:  1%.\n",
    "- **Proceso**: Se añade o resta un valor aleatorio entre -15 y 15 al color del individuo\n",
    "\n",
    "##### 2.1.6. Criterio de Parada\n",
    "\n",
    "- **Condiciones**:\n",
    "  - Alcanzar un nivel de aptitud satisfactorio (la diferencia debe ser de 0).\n",
    "  - Llegar a un número máximo de generaciones.\n",
    "\n",
    "#### 2.2. Diagrama de Flujo: Visualización de los pasos del algoritmo para facilitar la comprensión del proceso.\n",
    "![Diagrama de flujo](flujo.png)"
   ]
  },
  {
   "cell_type": "markdown",
   "metadata": {},
   "source": [
    "### 3. Implementación\n",
    "\n",
    "- **Código Fuente**: Implementación del algoritmo en un lenguaje de programación adecuado (por ejemplo, Python, Java).\n",
    "- **Comentarios y Documentación**: Explicaciones dentro del código para clarificar las funciones y procedimientos utilizados.\n",
    "\n"
   ]
  },
  {
   "cell_type": "code",
   "execution_count": 14,
   "metadata": {},
   "outputs": [],
   "source": [
    "import random\n",
    "\n",
    "class IndividuoCamuflaje:\n",
    "    def __init__(self, camuflaje=None):\n",
    "        self.genotipo = camuflaje or random.randint(0, 255)\n",
    "        self.fitness = 0\n",
    "\n",
    "class AlgoritmoGeneticoCamuflaje:\n",
    "    def __init__(self, poblacion, generaciones, tasaCruce, tasaMutacion, elitismo, fondo):\n",
    "        self.tamañoPoblacion = poblacion\n",
    "        self.generaciones = generaciones\n",
    "        self.tasaCruce = tasaCruce\n",
    "        self.tasaMutacion = tasaMutacion\n",
    "        self.elitismo = int(elitismo * poblacion)\n",
    "        self.poblacion = self.inicializarPoblacion(self.tamañoPoblacion)\n",
    "        self.generacion = 0\n",
    "        self.fondo = fondo\n",
    "\n",
    "    def inicializarPoblacion(self, poblacion):\n",
    "        return [IndividuoCamuflaje() for _ in range(poblacion)]\n",
    "\n",
    "    def evaluarPoblacion(self):\n",
    "        for individuo in self.poblacion:\n",
    "            individuo.fitness = self.evaluarFitness(individuo)\n",
    "\n",
    "    def evaluarFitness(self, individuo):\n",
    "        return -abs(individuo.genotipo - self.fondo)\n",
    "\n",
    "    def seleccionarPadres(self):\n",
    "        return random.choices(self.poblacion, k=2)\n",
    "\n",
    "    def cruzar(self, padre1, padre2):\n",
    "        hijo1 = IndividuoCamuflaje((padre1.genotipo + padre2.genotipo) % 256)\n",
    "        hijo2 = IndividuoCamuflaje((padre1.genotipo + abs(padre1.genotipo - padre2.genotipo)//2 ) % 256)\n",
    "        return hijo1, hijo2\n",
    "\n",
    "    def mutar(self, individuo):\n",
    "        individuo.genotipo = (individuo.genotipo + random.randint(-15, 15)) % 256\n",
    "\n",
    "    def condicionDeTerminacion(self):\n",
    "        return abs(self.mejorIndividuo().fitness) == 0\n",
    "\n",
    "    def aplicarElitismo(self, poblacion, nuevaPoblacion, elitismo):\n",
    "        poblacion.sort(key=lambda individuo: individuo.fitness, reverse=True)\n",
    "        nuevaPoblacion.sort(key=lambda individuo: individuo.fitness, reverse=True)\n",
    "        return poblacion[:elitismo] + nuevaPoblacion[:self.tamañoPoblacion - elitismo]\n",
    "\n",
    "    def mejorIndividuo(self):\n",
    "        return max(self.poblacion, key=lambda individuo: individuo.fitness)\n",
    "    \n",
    "    def obtenerMetricas(self):\n",
    "        mejor = self.mejorIndividuo()\n",
    "        return {\n",
    "            'generacion': self.generacion,\n",
    "            'fitness': mejor.fitness,\n",
    "            'genotipo': mejor.genotipo,\n",
    "            'fondo': self.fondo\n",
    "        }\n",
    "\n",
    "    def ejecutar(self):\n",
    "        self.evaluarPoblacion()\n",
    "        while self.generacion < self.generaciones and not self.condicionDeTerminacion():\n",
    "            nuevaPoblacion = []\n",
    "            for _ in range(self.tamañoPoblacion - self.elitismo):\n",
    "                padre1, padre2 = self.seleccionarPadres()\n",
    "                if random.random() < self.tasaCruce:\n",
    "                    hijo1, hijo2 = self.cruzar(padre1, padre2)\n",
    "                else:\n",
    "                    hijo1, hijo2 = padre1, padre2\n",
    "                nuevaPoblacion.extend([hijo1, hijo2])\n",
    "            for individuo in nuevaPoblacion:\n",
    "                if random.random() < self.tasaMutacion:\n",
    "                    self.mutar(individuo)\n",
    "\n",
    "            self.poblacion = self.aplicarElitismo(self.poblacion, nuevaPoblacion, self.elitismo)\n",
    "\n",
    "            self.evaluarPoblacion()\n",
    "\n",
    "            self.generacion += 1\n",
    "        return self.mejorIndividuo()\n",
    "\n"
   ]
  },
  {
   "cell_type": "markdown",
   "metadata": {},
   "source": [
    "### 4. Pruebas y Resultados\n",
    "\n",
    "- **Datos de Prueba**: Información sobre el fondo (nivel de gris) y parámetros utilizados.\n",
    "- **Ejecución del Algoritmo**: Descripción de cómo se ejecutó el algoritmo, incluyendo el número de generaciones y tiempos de ejecución.\n",
    "- **Resultados Obtenidos**: Presentación de los niveles de gris de los individuos a lo largo de las generaciones y cómo se acercan al nivel de gris del fondo.\n",
    "\n"
   ]
  },
  {
   "cell_type": "code",
   "execution_count": 47,
   "metadata": {},
   "outputs": [
    {
     "name": "stdout",
     "output_type": "stream",
     "text": [
      "{'generacion': 4, 'fitness': 0, 'genotipo': 128, 'fondo': 128}\n"
     ]
    }
   ],
   "source": [
    "tamañoPoblacion = 80\n",
    "generaciones = 100\n",
    "probabilidadCruce = 0.8\n",
    "elitismo = 0.2\n",
    "probabilidadMutacion = 0.01\n",
    "fondo = 128\n",
    "\n",
    "algoritmoGeneticoCamuflaje = AlgoritmoGeneticoCamuflaje(tamañoPoblacion, generaciones, probabilidadCruce, probabilidadMutacion, elitismo, fondo)\n",
    "algoritmoGeneticoCamuflaje.ejecutar()\n",
    "print(algoritmoGeneticoCamuflaje.obtenerMetricas())"
   ]
  },
  {
   "cell_type": "markdown",
   "metadata": {},
   "source": [
    "Es importante resaltar que al tener un tamaño de población de 80 individuos, es bastante probable que el algoritmo encuentre la solución optima sin necesidad de iterar, de hecho, esta probabilidad corresponde a cerca del 27% \n",
    "\n",
    "La probabilidad de adivinar correctamente un número entre 0 y 255 en un solo intento es:\n",
    "\n",
    "$$\n",
    "P(\\text{adivinar}) = \\frac{1}{256}\n",
    "$$\n",
    "\n",
    "La probabilidad de no adivinar en un intento es:\n",
    "\n",
    "$$\n",
    "P(\\text{no adivinar}) = 1 - P(\\text{adivinar}) = 1 - \\frac{1}{256} = \\frac{255}{256}\n",
    "$$\n",
    "\n",
    "La probabilidad de no adivinar en 80 intentos es:\n",
    "\n",
    "$$\n",
    "P(\\text{no adivinar en 80 intentos}) = \\left( \\frac{255}{256} \\right)^{80}\n",
    "$$\n",
    "\n",
    "Finalmente, la probabilidad de adivinar al menos una vez en 80 intentos es:\n",
    "\n",
    "$$\n",
    "P(\\text{adivinar al menos una vez}) = 1 - P(\\text{no adivinar en 80 intentos}) = 1 - \\left( \\frac{255}{256} \\right)^{80}\n",
    "$$\n",
    "\n",
    "Al calcular esto, obtenemos una probabilidad de aproximadamente **0.269** o **26.9%**."
   ]
  },
  {
   "cell_type": "markdown",
   "metadata": {},
   "source": [
    "### 5. Caso de Estudio: El color de fondo va a cambiar a lo largo de las generaciones\n",
    "- **Descripción del Problema**: Se desea camuflar un cubo en un entorno donde el color de fondo cambia a lo largo del tiempo.\n",
    "- **Modificación del Algoritmo**: Se debe adaptar el algoritmo genético para manejar la variabilidad del color de fondo y ajustar el cubo en consecuencia.\n",
    "- **Consideraciones Adicionales**: Se debe evaluar cómo la variabilidad afecta el desempeño del algoritmo y si se requieren ajustes en los parámetros.\n",
    "\n"
   ]
  },
  {
   "cell_type": "markdown",
   "metadata": {},
   "source": [
    "Se aumenta la cantidad de individuos de 80 a 100 para mejorar la precisión del algoritmo genético, disminuyendo la cantidad de generaciones y la diferencia absoluta con respecto al color actual"
   ]
  },
  {
   "cell_type": "code",
   "execution_count": null,
   "metadata": {},
   "outputs": [],
   "source": [
    "class AlgoritmoGeneticoCamuflajeCambiante(AlgoritmoGeneticoCamuflaje):\n",
    "    def __init__(self, poblacion, generaciones, tasaCruce, tasaMutacion, elitismo, fondo):\n",
    "        super().__init__(poblacion, generaciones, tasaCruce, tasaMutacion, elitismo, fondo)\n",
    "        \n",
    "    def cambiarFondo(self):\n",
    "        self.fondo = (self.fondo + random.randint(-25, 25)) % 256\n",
    "\n",
    "    def ejecutar(self):\n",
    "        self.evaluarPoblacion()\n",
    "        while self.generacion < self.generaciones and not self.condicionDeTerminacion():\n",
    "            nuevaPoblacion = []\n",
    "            for _ in range(self.tamañoPoblacion - self.elitismo):\n",
    "                padre1, padre2 = self.seleccionarPadres()\n",
    "                if random.random() < self.tasaCruce:\n",
    "                    hijo1, hijo2 = self.cruzar(padre1, padre2)\n",
    "                else:\n",
    "                    hijo1, hijo2 = padre1, padre2\n",
    "                nuevaPoblacion.extend([hijo1, hijo2])\n",
    "            for individuo in nuevaPoblacion:\n",
    "                if random.random() < self.tasaMutacion:\n",
    "                    self.mutar(individuo)\n",
    "\n",
    "            self.poblacion = self.aplicarElitismo(self.poblacion, nuevaPoblacion, self.elitismo)\n",
    "\n",
    "            self.cambiarFondo()\n",
    "            self.evaluarPoblacion()\n",
    "            self.generacion += 1\n",
    "        return self.mejorIndividuo()\n"
   ]
  },
  {
   "cell_type": "code",
   "execution_count": 56,
   "metadata": {},
   "outputs": [
    {
     "name": "stdout",
     "output_type": "stream",
     "text": [
      "{'generacion': 2, 'fitness': 0, 'genotipo': 144, 'fondo': 144}\n"
     ]
    }
   ],
   "source": [
    "tamañoPoblacion = 100\n",
    "generaciones = 100\n",
    "probabilidadCruce = 0.8\n",
    "elitismo = 0.2\n",
    "probabilidadMutacion = 0.01\n",
    "fondo = 128\n",
    "\n",
    "algoritmoGeneticoCamuflaje = AlgoritmoGeneticoCamuflajeCambiante(tamañoPoblacion, generaciones, probabilidadCruce, probabilidadMutacion, elitismo, fondo)\n",
    "algoritmoGeneticoCamuflaje.ejecutar()\n",
    "print(algoritmoGeneticoCamuflaje.obtenerMetricas())"
   ]
  },
  {
   "cell_type": "markdown",
   "metadata": {},
   "source": [
    "### 6. Análisis de Resultados\n",
    "\n",
    "- **Gráficas y Tablas**: \n",
    "  - Visualización del progreso del algoritmo, como gráficas de aptitud promedio y máxima por generación.\n",
    "  - Visualización de el camuflaje obtenido para esa generación.\n",
    "- **Interpretación**: Análisis de cómo el algoritmo logró mejorar la aptitud de los individuos y si se alcanzó el objetivo de camuflaje.\n",
    "- **Discusión de Desempeño**: Evaluación de la eficacia del algoritmo y posibles mejoras.\n",
    "\n"
   ]
  },
  {
   "cell_type": "markdown",
   "metadata": {},
   "source": [
    "### 7. Conclusiones\n",
    "\n",
    "- **Resumen de Hallazgos**: Síntesis de los resultados y su relevancia.\n",
    "- **Aprendizajes**: Lecciones obtenidas del desarrollo y ejecución del algoritmo.\n",
    "- **Recomendaciones**: Sugerencias para futuras implementaciones o ajustes al algoritmo.\n"
   ]
  }
 ],
 "metadata": {
  "kernelspec": {
   "display_name": "base",
   "language": "python",
   "name": "python3"
  },
  "language_info": {
   "codemirror_mode": {
    "name": "ipython",
    "version": 3
   },
   "file_extension": ".py",
   "mimetype": "text/x-python",
   "name": "python",
   "nbconvert_exporter": "python",
   "pygments_lexer": "ipython3",
   "version": "3.12.3"
  }
 },
 "nbformat": 4,
 "nbformat_minor": 2
}
