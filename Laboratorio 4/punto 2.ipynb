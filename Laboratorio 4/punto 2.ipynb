{
  "cells": [
    {
      "cell_type": "markdown",
      "metadata": {
        "id": "X9qoTHjP6H_x"
      },
      "source": [
        "# Lab 4: Parte 2 - Optimización multiobjetivo en problemas no lineales"
      ]
    },
    {
      "cell_type": "code",
      "execution_count": 101,
      "metadata": {
        "id": "KZV3id4s6H_z"
      },
      "outputs": [],
      "source": [
        "import matplotlib.pyplot as plt\n",
        "import math\n",
        "from pyomo.environ import *\n",
        "from pyomo.opt import SolverFactory\n",
        "solver = SolverFactory('ipopt')\n",
        "import pandas as pd\n",
        "import numpy as np"
      ]
    },
    {
      "cell_type": "markdown",
      "metadata": {
        "id": "Y91_Cr9x6H_2"
      },
      "source": [
        "## Pregunta 1: Beneficio vs Unidades Vendidas\n",
        "\n",
        "Una startup necesita aumentar las ventas de un producto a través de publicidad. Si la empresa gasta $a$ (medido en miles de dólares) en publicidad y cobra un precio de $p=10+0.38a$ dólares por unidad, entonces puede vender $1000-10p+20\\sqrt{a}$ unidades del producto. El costo de producción por unidad del producto es $6$. Ayuda a la empresa a encontrar al menos 10 soluciones de Pareto óptimas y traza la frontera de Pareto entre los objetivos de maximizar el beneficio y maximizar el número de unidades vendidas."
      ]
    },
    {
      "cell_type": "markdown",
      "metadata": {
        "id": "88Hel1jc6H_2"
      },
      "source": [
        "### Parte I: Formulación del modelo matemático\n",
        "\n",
        "Formula el problema matemático listando:\n",
        "- Variables de decisión\n",
        "- Función objetivo\n",
        "- Restricciones"
      ]
    },
    {
      "cell_type": "markdown",
      "metadata": {
        "id": "B72iQtnY6H_3"
      },
      "source": [
        "1. Variables de Decisión  \n",
        "  - $ a = $ inversión en publicidad (miles de dólares)\n",
        "\n",
        "2. Función Objetivo  \n",
        "  - $Max :\\ ventas\\ unitarias(a) = f_1(a) $  \n",
        "    - $ventas\\ unitarias(a) = 1000-10p+20\\sqrt{a}$  \n",
        "    - Sustituyendo:  \n",
        "      - $ ventas\\ unitarias(a) = 1000-10(10+0.38a)+20\\sqrt{a} $  \n",
        "      - $ ventas\\ unitarias(a) = 890-3.8a+20\\sqrt{a} $  \n",
        "    - $ Max :\\ ventas\\ unitarias(a) = f_1(a) = 890-3.8a+20\\sqrt{a} $\n",
        "    \n",
        "  - $Max :\\ beneficio(a) = f_2(a) $  \n",
        "    - $ beneficio = ventas\\ unitarias * margen - inversión$\n",
        "    - $ beneficio = ventas\\ unitarias * (precio - 6) - a $\n",
        "    - Sustituyendo:  \n",
        "      - $ beneficio(a) = ventas\\ unitarias * ((10+0.38a) - 6) - a $\n",
        "      - $ beneficio(a) = (890-3.8a+20\\sqrt{a}) * (4+0.38a) - a $\n",
        "    - $Max :\\ beneficio(a) = f_2(a) = -1.444a^2 + 7.6\\sqrt{a}*a + 80\\sqrt{a} + 322a +3560 $\n",
        "\n",
        "3. Restricciones  \n",
        "  - $ a > 0 $"
      ]
    },
    {
      "cell_type": "code",
      "execution_count": 102,
      "metadata": {
        "id": "s4Ee0CHCZwj_"
      },
      "outputs": [],
      "source": [
        "# Realiza tu modelado en este espacio\n",
        "\n",
        "# Creación del modelo\n",
        "M = ConcreteModel()\n",
        "\n",
        "# Definición de a (inversión en publicidad (miles de dólares))\n",
        "M.a = Var(within=NonNegativeReals)\n",
        "\n",
        "\n",
        "\"\"\"\n",
        "    Función auxiliar para eliminar un componente de un modelo\n",
        "\"\"\"\n",
        "def eliminarComponente(Model, comp_name):\n",
        "    list_del = [vr for vr in vars(Model)\n",
        "                if comp_name == vr\n",
        "                or vr.startswith(comp_name + '_index')\n",
        "                or vr.startswith(comp_name + '_domain')]\n",
        "    list_del_str = ', '.join(list_del)\n",
        "    for kk in list_del:\n",
        "        Model.del_component(kk)\n",
        "\n",
        "\"\"\"\n",
        "    Función auxiliar para eliminar los componentes de un modelo\n",
        "\"\"\"\n",
        "def eliminarModelo(Model):\n",
        "    eliminarComponente(Model, 'f1')\n",
        "    eliminarComponente(Model, 'f2')\n",
        "    eliminarComponente(Model, 'res')\n",
        "    eliminarComponente(Model, 'objetivo')\n",
        "\n",
        "\"\"\"\n",
        "    Función para crear el modelo\n",
        "\"\"\"\n",
        "def crearModelo(Model, objetivo):\n",
        "    # Función objetivo de ventas\n",
        "    Model.f1 = Expression(expr = 890 - (3.8 * Model.a) + (20 * (Model.a**0.5)))\n",
        "    # Función objetivo de ganancia\n",
        "    Model.f2 = Expression(expr = (-1.444 * (Model.a**2)) + (7.6 * (Model.a**1.5)) + (80 * (Model.a**0.5)) + (322 * Model.a) + 3560)\n",
        "    # Restricción de inversión\n",
        "    Model.res = Constraint(expr = Model.a >= 0.000001)\n",
        "    # Asigna la función objetivo dependiendo del objetivo\n",
        "    if objetivo == 'f1':\n",
        "        Model.objetivo = Objective(expr = Model.f1, sense=maximize)\n",
        "    else:\n",
        "        Model.objetivo = Objective(expr = Model.f2, sense=maximize)\n",
        "\n",
        "def reiniciarModelo(Model, objetivo):\n",
        "    eliminarModelo(Model)\n",
        "    crearModelo(Model, objetivo)"
      ]
    },
    {
      "cell_type": "markdown",
      "metadata": {
        "id": "vUEa1CQd6H_3"
      },
      "source": [
        "### Parte II: Hallar los extremos de Pareto\n",
        "\n",
        "Encontrar tanto la venta máxima como la ganancia máxima de unidades vendidas.\n",
        "\n",
        "> Puedes usar `model.res1.deactivate()` para desactivar la restricción para esto\n"
      ]
    },
    {
      "cell_type": "code",
      "execution_count": 103,
      "metadata": {},
      "outputs": [
        {
          "name": "stdout",
          "output_type": "stream",
          "text": [
            "El valor máximo de ventas es: 916.3157894736842 y el valor mínimo de ventas es: 526.023521803624\n",
            "El valor máximo de ganancia es: 34517.676142729855 y el valor mínimo de ganancia es: 6069.695291774551\n"
          ]
        }
      ],
      "source": [
        "# Escribe tu código aquí\n",
        "\n",
        "\n",
        "crearModelo(M, 'f1')\n",
        "SolverFactory('ipopt').solve(M)\n",
        "valorMaximoVentas = M.f1()\n",
        "valorMinimoGanancia = M.f2()\n",
        "\n",
        "\n",
        "reiniciarModelo(M, \"f2\")\n",
        "SolverFactory('ipopt').solve(M)\n",
        "valorMaximoGanancia = M.f2()\n",
        "valorMinimoVentas = M.f1()\n",
        "\n",
        "print(f\"El valor máximo de ventas es: {valorMaximoVentas} y el valor mínimo de ventas es: {valorMinimoVentas}\")\n",
        "print(f\"El valor máximo de ganancia es: {valorMaximoGanancia} y el valor mínimo de ganancia es: {valorMinimoGanancia}\")"
      ]
    },
    {
      "cell_type": "markdown",
      "metadata": {
        "id": "HA2hXkl66H_4"
      },
      "source": [
        "### Parte III: Graficar la frontera de Pareto\n",
        "\n",
        "Encuentra al menos 10 puntos de Pareto-óptimos y traza la frontera de Pareto entre los objetivos de maximizar el beneficio y maximizar el número de unidades vendidas."
      ]
    },
    {
      "cell_type": "markdown",
      "metadata": {},
      "source": [
        "Implementen el método de **$\\epsilon$-constraint** para encontrar el **frente óptimo de Pareto** en un problema de optimización multiobjetivo. La idea detrás de este método es optimizar un objetivo principal mientras se aplica una restricción sobre el otro objetivo, permitiendo obtener soluciones óptimas que representen diferentes compromisos entre ambos objetivos (en este caso, maximizar el **beneficio** y maximizar las **ventas unitarias**).\n",
        "\n",
        "### Explicación del Método $\\epsilon$-Constraint\n",
        "\n",
        "1. **Definición del Problema**:  \n",
        "   El problema tiene dos objetivos conflictivos:\n",
        "   - **Maximizar el beneficio** ($f_2(a)$).\n",
        "   - **Maximizar las ventas unitarias** ($f_1(a)$).\n",
        "   \n",
        "   Como estos objetivos están en conflicto (aumentar el beneficio podría reducir las ventas y viceversa), necesitamos encontrar un conjunto de soluciones óptimas donde no se puede mejorar un objetivo sin empeorar el otro, es decir, el **frente de Pareto**.\n",
        "\n",
        "2. **¿Qué es el método $\\epsilon$-Constraint?**:  \n",
        "   El método $\\epsilon$-constraint optimiza uno de los objetivos (por ejemplo, el beneficio) mientras que el otro objetivo se convierte en una restricción limitada por un valor $\\epsilon$.\n",
        "   \n",
        "   En el código, lo que se hace es:\n",
        "   - Primero, se **maximiza el beneficio** bajo una restricción que lo limita a un porcentaje de su valor máximo posible.\n",
        "   - Luego, se optimiza la función de **ventas unitarias** asegurando que el beneficio no disminuya por debajo del valor encontrado en la primera etapa.\n",
        "\n",
        "3. **Cómo se calculan los valores $\\epsilon$ (fronteras)**:  \n",
        "   Los valores $\\epsilon$ en este caso se calculan como un porcentaje de la diferencia entre el **valor máximo** y el **valor mínimo** del beneficio. Este valor $\\epsilon$ establece el límite superior para el beneficio en cada iteración. Así es como se asegura que el beneficio no supere un porcentaje del beneficio máximo posible, permitiendo así maximizar las ventas unitarias bajo ese límite.\n",
        "\n",
        "   La fórmula para establecer este límite es:\n",
        "   $$\n",
        "   \\text{profit\\_limit} = \\text{profit\\_max} - (\\text{profit\\_max} - \\text{profit\\_min}) \\times w1\n",
        "   $$\n",
        "   Donde:\n",
        "   - **profit\\_max** es el valor máximo del beneficio.\n",
        "   - **profit\\_min** es el valor mínimo del beneficio.\n",
        "   - **w1** es un peso que varía entre 0 y 1\n",
        "4. **Iteración para encontrar soluciones de Pareto**:  \n",
        "   El código genera múltiples soluciones cambiando el valor de **w1** en el rango de 0 a 1. Esto permite explorar diferentes compromisos entre el beneficio y las ventas unitarias:\n",
        "   - Cuando **w1 = 0**, se permite el beneficio máximo posible.\n",
        "   - Cuando **w1 = 1**, se reduce el beneficio al mínimo y se maximizan las ventas.\n",
        "   \n",
        "   Cada vez que el valor de **w1** cambia, el modelo se resuelve nuevamente para encontrar un nuevo compromiso óptimo entre beneficio y ventas, generando así una solución del frente de Pareto."
      ]
    },
    {
      "cell_type": "code",
      "execution_count": 104,
      "metadata": {},
      "outputs": [
        {
          "data": {
            "image/png": "[encoded data removed]",
            "text/plain": [
              "<Figure size 1000x500 with 1 Axes>"
            ]
          },
          "metadata": {},
          "output_type": "display_data"
        }
      ],
      "source": [
        "def restriccionEpsilon(Model, epsilon):\n",
        "    eliminarComponente(M, \"beneficio\")\n",
        "    Model.beneficio = Constraint(expr = Model.f2 >=epsilon)\n",
        "\n",
        "valoresW1 = np.linspace(0, 1, 11)\n",
        "puntosPareto = []\n",
        "for w1 in valoresW1:\n",
        "    reiniciarModelo(M, \"f1\")\n",
        "    limiteGanancia = valorMaximoGanancia - (valorMaximoGanancia - valorMinimoGanancia) * w1\n",
        "    restriccionEpsilon(M, limiteGanancia)\n",
        "    SolverFactory('ipopt').solve(M)\n",
        "    ventas = M.f1()\n",
        "    ganancias = M.f2()\n",
        "    puntosPareto.append((ventas, ganancias))\n",
        "\n",
        "\n",
        "plt.figure(figsize=(10, 5))\n",
        "plt.plot([p[1] for p in puntosPareto], [p[0] for p in puntosPareto], 'bo-', label='Soluciones')\n",
        "plt.xlabel('Ganancias')\n",
        "plt.ylabel('Ventas')\n",
        "plt.title('Frontera de Pareto')\n",
        "plt.grid()\n",
        "plt.legend()\n",
        "plt.show()\n",
        "\n",
        "\n",
        "\n",
        "    "
      ]
    },
    {
      "cell_type": "markdown",
      "metadata": {
        "id": "GW1hBSeS6H_4"
      },
      "source": [
        "### Parte (d): Discusión\n",
        "\n",
        "Supongamos que la empresa startup ahora decide que, aunque ambos objetivos son importantes, maximizar el número de unidades vendidas es más importante que maximizar el beneficio. ¿Qué sugerencias le darías a la empresa basándote en tus resultados de las partes (b) y (c)?"
      ]
    }
  ],
  "metadata": {
    "colab": {
      "collapsed_sections": [],
      "name": "Problem Set 2.ipynb",
      "provenance": []
    },
    "kernelspec": {
      "display_name": "Python 3 (ipykernel)",
      "language": "python",
      "name": "python3"
    },
    "language_info": {
      "codemirror_mode": {
        "name": "ipython",
        "version": 3
      },
      "file_extension": ".py",
      "mimetype": "text/x-python",
      "name": "python",
      "nbconvert_exporter": "python",
      "pygments_lexer": "ipython3",
      "version": "3.12.1"
    }
  },
  "nbformat": 4,
  "nbformat_minor": 0
}
